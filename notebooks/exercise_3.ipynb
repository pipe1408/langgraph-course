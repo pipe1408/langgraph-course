{
 "cells": [
  {
   "cell_type": "markdown",
   "id": "6c76f640",
   "metadata": {},
   "source": [
    "# Exercise 3: Sequential Agent"
   ]
  },
  {
   "cell_type": "code",
   "execution_count": 1,
   "id": "6fa1471d",
   "metadata": {},
   "outputs": [],
   "source": [
    "from typing import TypedDict, List\n",
    "from langgraph.graph import StateGraph, START, END"
   ]
  },
  {
   "cell_type": "code",
   "execution_count": 2,
   "id": "e7ac7ee9",
   "metadata": {},
   "outputs": [],
   "source": [
    "class SequentialAgentState(TypedDict):\n",
    "    name: str\n",
    "    age: int\n",
    "    skills: List[str]\n",
    "    message: str\n",
    "\n",
    "\n",
    "def named_message_node_function(state: SequentialAgentState) -> SequentialAgentState:\n",
    "    \"\"\"Add a custom message with the name given in the state\"\"\"\n",
    "\n",
    "    state['message'] = f\"Welcome, {state['name']}! \"\n",
    "\n",
    "    return state\n",
    "\n",
    "\n",
    "def age_description_node_function(state: SequentialAgentState) -> SequentialAgentState:\n",
    "    \"\"\"Describe the user's age as a message\"\"\"\n",
    "\n",
    "    state['message'] += f\"Your age is {state['age']}. \"\n",
    "\n",
    "    return state\n",
    "\n",
    "\n",
    "def skills_formatting_node_function(state: SequentialAgentState) -> SequentialAgentState:\n",
    "    \"\"\"Describe the user's skills as a message\"\"\"\n",
    "\n",
    "    if not state[\"skills\"]:\n",
    "        skills_message = \"You haven't listed any skills.\"\n",
    "    elif len(state[\"skills\"]) == 1:\n",
    "        skills_message = f\"Your skill is: {state['skills'][0]}.\"\n",
    "    else:\n",
    "        skills_message = f\"Your skills are: {', '.join(state['skills'][:-1])}, and {state['skills'][-1]}.\"\n",
    "\n",
    "    state['message'] += skills_message\n",
    "\n",
    "    return state"
   ]
  },
  {
   "cell_type": "code",
   "execution_count": 3,
   "id": "a2178048",
   "metadata": {},
   "outputs": [],
   "source": [
    "named_message_node_key = \"named_message_node\"\n",
    "age_description_node_key = \"age_description_node\"\n",
    "skills_formatting_node_key = \"skills_formatting_node\"\n",
    "\n",
    "graph = StateGraph(SequentialAgentState)\n",
    "\n",
    "graph.add_node(named_message_node_key, named_message_node_function)\n",
    "graph.add_node(age_description_node_key, age_description_node_function)\n",
    "graph.add_node(skills_formatting_node_key, skills_formatting_node_function)\n",
    "\n",
    "graph.add_edge(START, named_message_node_key)\n",
    "graph.add_edge(named_message_node_key, age_description_node_key)\n",
    "graph.add_edge(age_description_node_key, skills_formatting_node_key)\n",
    "graph.add_edge(skills_formatting_node_key, END)\n",
    "\n",
    "agent = graph.compile()"
   ]
  },
  {
   "cell_type": "code",
   "execution_count": 4,
   "id": "2ea867b4",
   "metadata": {},
   "outputs": [
    {
     "data": {
      "image/png": "[encoded data removed]",
      "text/plain": [
       "<IPython.core.display.Image object>"
      ]
     },
     "metadata": {},
     "output_type": "display_data"
    }
   ],
   "source": [
    "from IPython.display import Image, display\n",
    "\n",
    "display(Image(agent.get_graph().draw_mermaid_png()))"
   ]
  },
  {
   "cell_type": "code",
   "execution_count": 5,
   "id": "e867c0a1",
   "metadata": {},
   "outputs": [
    {
     "data": {
      "text/plain": [
       "'Welcome, Luis! Your age is 24. Your skills are: A, B, and C.'"
      ]
     },
     "execution_count": 5,
     "metadata": {},
     "output_type": "execute_result"
    }
   ],
   "source": [
    "result = agent.invoke(\n",
    "    {\n",
    "        \"name\": \"Luis\",\n",
    "        \"age\": 24,\n",
    "        \"skills\": [\"A\", \"B\", \"C\"]\n",
    "    }\n",
    ")\n",
    "\n",
    "result[\"message\"]"
   ]
  }
 ],
 "metadata": {
  "kernelspec": {
   "display_name": "langgraph-course",
   "language": "python",
   "name": "python3"
  },
  "language_info": {
   "codemirror_mode": {
    "name": "ipython",
    "version": 3
   },
   "file_extension": ".py",
   "mimetype": "text/x-python",
   "name": "python",
   "nbconvert_exporter": "python",
   "pygments_lexer": "ipython3",
   "version": "3.11.9"
  }
 },
 "nbformat": 4,
 "nbformat_minor": 5
}
