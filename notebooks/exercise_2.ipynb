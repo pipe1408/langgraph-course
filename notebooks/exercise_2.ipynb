{
 "cells": [
  {
   "cell_type": "markdown",
   "id": "6cc2048b",
   "metadata": {},
   "source": [
    "# Exercise 2: Agent with multiple inputs"
   ]
  },
  {
   "cell_type": "code",
   "execution_count": 1,
   "id": "fb26be7b",
   "metadata": {},
   "outputs": [],
   "source": [
    "from typing import TypedDict, List, Literal\n",
    "from math import prod\n",
    "from langgraph.graph import StateGraph"
   ]
  },
  {
   "cell_type": "code",
   "execution_count": 2,
   "id": "281b31ee",
   "metadata": {},
   "outputs": [],
   "source": [
    "PROCESSING_NODE = \"processing_node\""
   ]
  },
  {
   "cell_type": "code",
   "execution_count": 3,
   "id": "89e0fd81",
   "metadata": {},
   "outputs": [],
   "source": [
    "class AgentState(TypedDict):\n",
    "    name: str\n",
    "    numbers: List[int]\n",
    "    operation: Literal[\"+\", \"*\"]\n",
    "    result: int\n",
    "    message: str\n",
    "\n",
    "\n",
    "def processing_node_function(state: AgentState) -> AgentState:\n",
    "    \"\"\"Node function to create a string with the given name, and the result of an operation with arguments passed in the state\"\"\"\n",
    "\n",
    "    operation_functions = {\n",
    "        \"+\": sum,\n",
    "        \"*\": prod\n",
    "    }\n",
    "\n",
    "    state['result'] = operation_functions[state['operation']](state['numbers'])\n",
    "    state['message'] = f\"Hi! {state['name']}, the result is {state['result']}!\"\n",
    "\n",
    "    return state"
   ]
  },
  {
   "cell_type": "code",
   "execution_count": 4,
   "id": "088f569b",
   "metadata": {},
   "outputs": [],
   "source": [
    "graph = StateGraph(AgentState)\n",
    "\n",
    "graph.add_node(PROCESSING_NODE, processing_node_function)\n",
    "\n",
    "graph.set_entry_point(PROCESSING_NODE)\n",
    "graph.set_finish_point(PROCESSING_NODE)\n",
    "\n",
    "agent = graph.compile()"
   ]
  },
  {
   "cell_type": "code",
   "execution_count": 5,
   "id": "119da998",
   "metadata": {},
   "outputs": [
    {
     "data": {
      "image/png": "[encoded data removed]",
      "text/plain": [
       "<IPython.core.display.Image object>"
      ]
     },
     "metadata": {},
     "output_type": "display_data"
    }
   ],
   "source": [
    "from IPython.display import Image, display\n",
    "\n",
    "display(Image(agent.get_graph().draw_mermaid_png()))"
   ]
  },
  {
   "cell_type": "code",
   "execution_count": 6,
   "id": "cc07f16d",
   "metadata": {},
   "outputs": [
    {
     "data": {
      "text/plain": [
       "'Hi! Felipe, the result is 19!'"
      ]
     },
     "execution_count": 6,
     "metadata": {},
     "output_type": "execute_result"
    }
   ],
   "source": [
    "result = agent.invoke(\n",
    "    {\n",
    "        \"name\": \"Felipe\",\n",
    "        \"numbers\": [1, 2, 3, 5, 8],\n",
    "        \"operation\": \"+\"\n",
    "    }\n",
    ")\n",
    "\n",
    "result[\"message\"]"
   ]
  },
  {
   "cell_type": "code",
   "execution_count": 7,
   "id": "cf03b4b2",
   "metadata": {},
   "outputs": [
    {
     "data": {
      "text/plain": [
       "'Hi! Luis, the result is 240!'"
      ]
     },
     "execution_count": 7,
     "metadata": {},
     "output_type": "execute_result"
    }
   ],
   "source": [
    "result = agent.invoke(\n",
    "    {\n",
    "        \"name\": \"Luis\",\n",
    "        \"numbers\": [1, 2, 3, 5, 8],\n",
    "        \"operation\": \"*\"\n",
    "    }\n",
    ")\n",
    "\n",
    "result[\"message\"]"
   ]
  }
 ],
 "metadata": {
  "kernelspec": {
   "display_name": "langgraph-course",
   "language": "python",
   "name": "python3"
  },
  "language_info": {
   "codemirror_mode": {
    "name": "ipython",
    "version": 3
   },
   "file_extension": ".py",
   "mimetype": "text/x-python",
   "name": "python",
   "nbconvert_exporter": "python",
   "pygments_lexer": "ipython3",
   "version": "3.11.9"
  }
 },
 "nbformat": 4,
 "nbformat_minor": 5
}
