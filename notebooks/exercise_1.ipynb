{
 "cells": [
  {
   "cell_type": "markdown",
   "id": "1ad42899",
   "metadata": {},
   "source": [
    "# Exercise 1: Compliment Agent"
   ]
  },
  {
   "cell_type": "code",
   "execution_count": 1,
   "id": "b8c329ce",
   "metadata": {},
   "outputs": [],
   "source": [
    "from typing import TypedDict\n",
    "from langgraph.graph import StateGraph"
   ]
  },
  {
   "cell_type": "code",
   "execution_count": 2,
   "id": "d2ec5172",
   "metadata": {},
   "outputs": [],
   "source": [
    "class AgentState(TypedDict):\n",
    "    name: str\n",
    "    message: str\n",
    "\n",
    "\n",
    "def compliment_node_function(state: AgentState) -> AgentState:\n",
    "    \"\"\"Node function to add a compliment to the name on the given state\"\"\"\n",
    "\n",
    "    state['message'] = \"Hello, dear \" + state['name'] + \"! Hope you have a great day!\"\n",
    "\n",
    "    return state"
   ]
  },
  {
   "cell_type": "code",
   "execution_count": 3,
   "id": "2d8db067",
   "metadata": {},
   "outputs": [],
   "source": [
    "graph = StateGraph(AgentState)\n",
    "\n",
    "graph.add_node(\"compliment_node\", compliment_node_function)\n",
    "\n",
    "graph.set_entry_point(\"compliment_node\")\n",
    "graph.set_finish_point(\"compliment_node\")\n",
    "\n",
    "app = graph.compile()"
   ]
  },
  {
   "cell_type": "code",
   "execution_count": 4,
   "id": "73a874ee",
   "metadata": {},
   "outputs": [
    {
     "data": {
      "image/png": "[encoded data removed]",
      "text/plain": [
       "<IPython.core.display.Image object>"
      ]
     },
     "metadata": {},
     "output_type": "display_data"
    }
   ],
   "source": [
    "from IPython.display import Image, display\n",
    "\n",
    "display(Image(app.get_graph().draw_mermaid_png()))"
   ]
  },
  {
   "cell_type": "code",
   "execution_count": 5,
   "id": "5c007d11",
   "metadata": {},
   "outputs": [
    {
     "data": {
      "text/plain": [
       "'Hello, dear Felipe! Hope you have a great day!'"
      ]
     },
     "execution_count": 5,
     "metadata": {},
     "output_type": "execute_result"
    }
   ],
   "source": [
    "result = app.invoke({\"name\": \"Felipe\"})\n",
    "\n",
    "result['message']"
   ]
  }
 ],
 "metadata": {
  "kernelspec": {
   "display_name": "langgraph-course",
   "language": "python",
   "name": "python3"
  },
  "language_info": {
   "codemirror_mode": {
    "name": "ipython",
    "version": 3
   },
   "file_extension": ".py",
   "mimetype": "text/x-python",
   "name": "python",
   "nbconvert_exporter": "python",
   "pygments_lexer": "ipython3",
   "version": "3.11.9"
  }
 },
 "nbformat": 4,
 "nbformat_minor": 5
}
